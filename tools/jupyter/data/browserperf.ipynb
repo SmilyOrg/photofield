{
 "cells": [
  {
   "cell_type": "code",
   "execution_count": 123,
   "metadata": {},
   "outputs": [
    {
     "data": {
      "text/markdown": [
       "# scroll9.json"
      ],
      "text/plain": [
       "<IPython.core.display.Markdown object>"
      ]
     },
     "metadata": {},
     "output_type": "display_data"
    },
    {
     "data": {
      "application/vnd.jupyter.widget-view+json": {
       "model_id": "1811ab338a314a5b97539e29e6d1c898",
       "version_major": 2,
       "version_minor": 0
      },
      "text/plain": [
       "Canvas(toolbar=Toolbar(toolitems=[('Home', 'Reset original view', 'home', 'home'), ('Back', 'Back to previous …"
      ]
     },
     "metadata": {},
     "output_type": "display_data"
    }
   ],
   "source": [
    "%matplotlib widget\n",
    "import pandas as pd\n",
    "import numpy as np\n",
    "import matplotlib.pyplot as plt\n",
    "import scipy.stats as stats\n",
    "import json\n",
    "from IPython.display import Markdown, display\n",
    "\n",
    "def plot_frames(ft_err, speed):\n",
    "    fig, ax1 = plt.subplots()\n",
    "\n",
    "    color = 'tab:blue'\n",
    "    ax1.set_xlabel('sample')\n",
    "    ax1.set_ylabel('frametime', color=color)\n",
    "    ax1.plot(ft_err, color=color)\n",
    "    ax1.tick_params(axis='y', labelcolor=color)\n",
    "\n",
    "    ax2 = ax1.twinx()  # instantiate a second axes that shares the same x-axis\n",
    "\n",
    "    color = 'tab:red'\n",
    "    ax2.set_ylabel('speed', color=color)  # we already handled the x-label with ax1\n",
    "    ax2.plot(speed, color=color)\n",
    "    ax2.tick_params(axis='y', labelcolor=color)\n",
    "\n",
    "    fig.tight_layout()  # otherwise the right y-label is slightly clipped\n",
    "    plt.show()\n",
    "\n",
    "def analyse_frames_from_dataframe(data):\n",
    "    data = data[2:]\n",
    "    x = data[0]\n",
    "    ft = data[1]\n",
    "    speed = data[3]\n",
    "\n",
    "    ft_err = abs(ft - 1000/60)\n",
    "    duration = x.iloc[-1] - x.iloc[0]\n",
    "    ft_err_sum = ft_err.sum()\n",
    "    ft_err_norm_sum = ft_err_sum / duration\n",
    "    #print(f\"Frametime sum of absolute errors: {round(ft_err_sum, 2)} ms\")\n",
    "    #print(f\"Frametime lag time per frame: {round(ft_err_norm_sum * 100)}%\")\n",
    "    \n",
    "    ft_err_speed = pd.DataFrame({\n",
    "        \"error\": ft_err,\n",
    "        \"speed\": speed,\n",
    "        \"ft\": ft,\n",
    "    })\n",
    "    ft_err_speed_sum = ft_err_speed.groupby(\"speed\").sum()\n",
    "    ft_err_speed_norm_sum = ft_err_speed_sum[\"error\"] / ft_err_speed_sum[\"ft\"]\n",
    "    \n",
    "    return ft_err_norm_sum, ft_err_speed_norm_sum\n",
    "    \n",
    "    #display(ft_err_speed_norm_sum)\n",
    "    #plot_frames(ft_err, speed)\n",
    "    \n",
    "def analyse_frames_from_file(file):\n",
    "    df = pd.read_json(file)\n",
    "    display(Markdown(\"# \" + file))\n",
    "    analyse_frames_from_dataframe(df)\n",
    "    \n",
    "def analyse_frames_from_runs_file(file):\n",
    "    df = pd.read_json(file)\n",
    "    display(Markdown(\"# \" + file))\n",
    "    by_speed_runs = []\n",
    "    for index, run in df.iterrows():\n",
    "        #display(Markdown(\"## \" + json.dumps(run[\"params\"])))\n",
    "        frames = pd.DataFrame(run[\"frames\"])\n",
    "        total_error, by_speed = analyse_frames_from_dataframe(frames)\n",
    "        by_speed_runs.append(pd.DataFrame({\n",
    "            \"size\": run[\"params\"][\"tileSize\"],\n",
    "            \"err\": by_speed\n",
    "        }))\n",
    "        #display(total_error, by_speed)\n",
    "    \n",
    "    speed_err = pd.concat(by_speed_runs).sort_values([\"speed\", \"size\"])\n",
    "    grouped = speed_err.groupby(\"speed\").agg(list)\n",
    "    fig, ax = plt.subplots()\n",
    "    ax.set_xlabel('tile size')\n",
    "    ax.set_ylabel('frame lag')\n",
    "    for index, row in grouped.iterrows():\n",
    "        #display(Markdown(f\"## {row.name}\"))\n",
    "        plt.plot(row[\"size\"], row[\"err\"], label=f\"speed {index}\")\n",
    "    \n",
    "    leg = ax.legend();\n",
    "        \n",
    "    \n",
    "    #display(data.iloc[0][\"params\"])\n",
    "    #analyse_frames_from_dataframe(data)\n",
    "    \n",
    "#analyse_frames_from_file(\"scroll2.json\")\n",
    "#analyse_frames_from_file(\"scroll3-4xslow.json\")\n",
    "#analyse_frames_from_file(\"scroll4-4xslow-nosmooth-immediate.json\")\n",
    "#analyse_frames_from_file(\"scroll5-4xslow-512.json\")\n",
    "#analyse_frames_from_runs_file(\"scroll6-4xslow-256-512.json\")\n",
    "#analyse_frames_from_runs_file(\"scroll7.json\")\n",
    "#analyse_frames_from_runs_file(\"scroll8.json\")\n",
    "analyse_frames_from_runs_file(\"scroll9.json\")"
   ]
  },
  {
   "cell_type": "code",
   "execution_count": 68,
   "metadata": {},
   "outputs": [
    {
     "data": {
      "text/plain": [
       "0.3635934630792813"
      ]
     },
     "execution_count": 68,
     "metadata": {},
     "output_type": "execute_result"
    }
   ],
   "source": [
    "\n"
   ]
  }
 ],
 "metadata": {
  "kernelspec": {
   "display_name": "Python 3",
   "language": "python",
   "name": "python3"
  },
  "language_info": {
   "codemirror_mode": {
    "name": "ipython",
    "version": 3
   },
   "file_extension": ".py",
   "mimetype": "text/x-python",
   "name": "python",
   "nbconvert_exporter": "python",
   "pygments_lexer": "ipython3",
   "version": "3.8.6"
  }
 },
 "nbformat": 4,
 "nbformat_minor": 4
}
